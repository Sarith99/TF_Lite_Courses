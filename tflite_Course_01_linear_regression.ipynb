{
  "nbformat": 4,
  "nbformat_minor": 0,
  "metadata": {
    "colab": {
      "name": "tflite_Course_01_linear_regression.ipynb",
      "provenance": [],
      "authorship_tag": "ABX9TyOdvjVbMP4XaCcK2L/rqPZX",
      "include_colab_link": true
    },
    "kernelspec": {
      "name": "python3",
      "display_name": "Python 3"
    },
    "language_info": {
      "name": "python"
    }
  },
  "cells": [
    {
      "cell_type": "markdown",
      "metadata": {
        "id": "view-in-github",
        "colab_type": "text"
      },
      "source": [
        "<a href=\"https://colab.research.google.com/github/Sarith99/TF_Lite_Courses/blob/main/tflite_Course_01_linear_regression.ipynb\" target=\"_parent\"><img src=\"https://colab.research.google.com/assets/colab-badge.svg\" alt=\"Open In Colab\"/></a>"
      ]
    },
    {
      "cell_type": "markdown",
      "source": [
        "# Setup"
      ],
      "metadata": {
        "id": "cFe5Lf3JIj3A"
      }
    },
    {
      "cell_type": "code",
      "execution_count": 2,
      "metadata": {
        "id": "rhluIv_kjt1Q"
      },
      "outputs": [],
      "source": [
        "import tensorflow as tf\n",
        "\n",
        "import pathlib\n",
        "import numpy as np\n",
        "import matplotlib.pyplot as plt\n",
        "\n",
        "from tensorflow.keras.models import Model\n",
        "from tensorflow.keras.layers import Input"
      ]
    },
    {
      "cell_type": "markdown",
      "source": [
        "# Create a basic model of the form: y = mx + c"
      ],
      "metadata": {
        "id": "flu60emPJJ4r"
      }
    },
    {
      "cell_type": "code",
      "source": [
        "# Create a simple Keras model\n",
        "x = [-1, 0, 1, 2, 3, 4]\n",
        "y = [-3, -1, 1, 3, 5, 7]\n",
        "\n",
        "model = tf.keras.models.Sequential([\n",
        "                                    tf.keras.layers.Dense(units=1, input_shape=[1])\n",
        "])\n",
        "\n",
        "model.compile(optimizer='sgd', loss = 'mean_squared_error')\n",
        "model.fit(x, y, epochs=200, verbose=1)"
      ],
      "metadata": {
        "colab": {
          "base_uri": "https://localhost:8080/"
        },
        "id": "bTBHPUzoJT9l",
        "outputId": "625397ac-176b-4283-80e8-e82b64f54350"
      },
      "execution_count": 3,
      "outputs": [
        {
          "output_type": "stream",
          "name": "stdout",
          "text": [
            "Epoch 1/200\n",
            "1/1 [==============================] - 0s 412ms/step - loss: 0.5810\n",
            "Epoch 2/200\n",
            "1/1 [==============================] - 0s 12ms/step - loss: 0.5684\n",
            "Epoch 3/200\n",
            "1/1 [==============================] - 0s 9ms/step - loss: 0.5563\n",
            "Epoch 4/200\n",
            "1/1 [==============================] - 0s 12ms/step - loss: 0.5445\n",
            "Epoch 5/200\n",
            "1/1 [==============================] - 0s 9ms/step - loss: 0.5331\n",
            "Epoch 6/200\n",
            "1/1 [==============================] - 0s 13ms/step - loss: 0.5219\n",
            "Epoch 7/200\n",
            "1/1 [==============================] - 0s 12ms/step - loss: 0.5110\n",
            "Epoch 8/200\n",
            "1/1 [==============================] - 0s 10ms/step - loss: 0.5004\n",
            "Epoch 9/200\n",
            "1/1 [==============================] - 0s 13ms/step - loss: 0.4900\n",
            "Epoch 10/200\n",
            "1/1 [==============================] - 0s 11ms/step - loss: 0.4798\n",
            "Epoch 11/200\n",
            "1/1 [==============================] - 0s 9ms/step - loss: 0.4699\n",
            "Epoch 12/200\n",
            "1/1 [==============================] - 0s 10ms/step - loss: 0.4602\n",
            "Epoch 13/200\n",
            "1/1 [==============================] - 0s 12ms/step - loss: 0.4507\n",
            "Epoch 14/200\n",
            "1/1 [==============================] - 0s 11ms/step - loss: 0.4414\n",
            "Epoch 15/200\n",
            "1/1 [==============================] - 0s 15ms/step - loss: 0.4323\n",
            "Epoch 16/200\n",
            "1/1 [==============================] - 0s 11ms/step - loss: 0.4234\n",
            "Epoch 17/200\n",
            "1/1 [==============================] - 0s 8ms/step - loss: 0.4147\n",
            "Epoch 18/200\n",
            "1/1 [==============================] - 0s 12ms/step - loss: 0.4062\n",
            "Epoch 19/200\n",
            "1/1 [==============================] - 0s 12ms/step - loss: 0.3978\n",
            "Epoch 20/200\n",
            "1/1 [==============================] - 0s 8ms/step - loss: 0.3897\n",
            "Epoch 21/200\n",
            "1/1 [==============================] - 0s 10ms/step - loss: 0.3816\n",
            "Epoch 22/200\n",
            "1/1 [==============================] - 0s 10ms/step - loss: 0.3738\n",
            "Epoch 23/200\n",
            "1/1 [==============================] - 0s 11ms/step - loss: 0.3661\n",
            "Epoch 24/200\n",
            "1/1 [==============================] - 0s 10ms/step - loss: 0.3586\n",
            "Epoch 25/200\n",
            "1/1 [==============================] - 0s 11ms/step - loss: 0.3512\n",
            "Epoch 26/200\n",
            "1/1 [==============================] - 0s 9ms/step - loss: 0.3440\n",
            "Epoch 27/200\n",
            "1/1 [==============================] - 0s 13ms/step - loss: 0.3369\n",
            "Epoch 28/200\n",
            "1/1 [==============================] - 0s 11ms/step - loss: 0.3300\n",
            "Epoch 29/200\n",
            "1/1 [==============================] - 0s 11ms/step - loss: 0.3232\n",
            "Epoch 30/200\n",
            "1/1 [==============================] - 0s 10ms/step - loss: 0.3166\n",
            "Epoch 31/200\n",
            "1/1 [==============================] - 0s 9ms/step - loss: 0.3101\n",
            "Epoch 32/200\n",
            "1/1 [==============================] - 0s 7ms/step - loss: 0.3037\n",
            "Epoch 33/200\n",
            "1/1 [==============================] - 0s 9ms/step - loss: 0.2975\n",
            "Epoch 34/200\n",
            "1/1 [==============================] - 0s 8ms/step - loss: 0.2914\n",
            "Epoch 35/200\n",
            "1/1 [==============================] - 0s 10ms/step - loss: 0.2854\n",
            "Epoch 36/200\n",
            "1/1 [==============================] - 0s 14ms/step - loss: 0.2795\n",
            "Epoch 37/200\n",
            "1/1 [==============================] - 0s 12ms/step - loss: 0.2738\n",
            "Epoch 38/200\n",
            "1/1 [==============================] - 0s 8ms/step - loss: 0.2682\n",
            "Epoch 39/200\n",
            "1/1 [==============================] - 0s 10ms/step - loss: 0.2627\n",
            "Epoch 40/200\n",
            "1/1 [==============================] - 0s 11ms/step - loss: 0.2573\n",
            "Epoch 41/200\n",
            "1/1 [==============================] - 0s 10ms/step - loss: 0.2520\n",
            "Epoch 42/200\n",
            "1/1 [==============================] - 0s 11ms/step - loss: 0.2468\n",
            "Epoch 43/200\n",
            "1/1 [==============================] - 0s 12ms/step - loss: 0.2417\n",
            "Epoch 44/200\n",
            "1/1 [==============================] - 0s 11ms/step - loss: 0.2368\n",
            "Epoch 45/200\n",
            "1/1 [==============================] - 0s 8ms/step - loss: 0.2319\n",
            "Epoch 46/200\n",
            "1/1 [==============================] - 0s 10ms/step - loss: 0.2271\n",
            "Epoch 47/200\n",
            "1/1 [==============================] - 0s 9ms/step - loss: 0.2225\n",
            "Epoch 48/200\n",
            "1/1 [==============================] - 0s 9ms/step - loss: 0.2179\n",
            "Epoch 49/200\n",
            "1/1 [==============================] - 0s 9ms/step - loss: 0.2134\n",
            "Epoch 50/200\n",
            "1/1 [==============================] - 0s 9ms/step - loss: 0.2090\n",
            "Epoch 51/200\n",
            "1/1 [==============================] - 0s 9ms/step - loss: 0.2047\n",
            "Epoch 52/200\n",
            "1/1 [==============================] - 0s 11ms/step - loss: 0.2005\n",
            "Epoch 53/200\n",
            "1/1 [==============================] - 0s 12ms/step - loss: 0.1964\n",
            "Epoch 54/200\n",
            "1/1 [==============================] - 0s 9ms/step - loss: 0.1924\n",
            "Epoch 55/200\n",
            "1/1 [==============================] - 0s 10ms/step - loss: 0.1884\n",
            "Epoch 56/200\n",
            "1/1 [==============================] - 0s 9ms/step - loss: 0.1846\n",
            "Epoch 57/200\n",
            "1/1 [==============================] - 0s 10ms/step - loss: 0.1808\n",
            "Epoch 58/200\n",
            "1/1 [==============================] - 0s 9ms/step - loss: 0.1771\n",
            "Epoch 59/200\n",
            "1/1 [==============================] - 0s 9ms/step - loss: 0.1734\n",
            "Epoch 60/200\n",
            "1/1 [==============================] - 0s 8ms/step - loss: 0.1699\n",
            "Epoch 61/200\n",
            "1/1 [==============================] - 0s 9ms/step - loss: 0.1664\n",
            "Epoch 62/200\n",
            "1/1 [==============================] - 0s 9ms/step - loss: 0.1630\n",
            "Epoch 63/200\n",
            "1/1 [==============================] - 0s 9ms/step - loss: 0.1596\n",
            "Epoch 64/200\n",
            "1/1 [==============================] - 0s 10ms/step - loss: 0.1563\n",
            "Epoch 65/200\n",
            "1/1 [==============================] - 0s 8ms/step - loss: 0.1531\n",
            "Epoch 66/200\n",
            "1/1 [==============================] - 0s 10ms/step - loss: 0.1500\n",
            "Epoch 67/200\n",
            "1/1 [==============================] - 0s 13ms/step - loss: 0.1469\n",
            "Epoch 68/200\n",
            "1/1 [==============================] - 0s 12ms/step - loss: 0.1439\n",
            "Epoch 69/200\n",
            "1/1 [==============================] - 0s 10ms/step - loss: 0.1409\n",
            "Epoch 70/200\n",
            "1/1 [==============================] - 0s 7ms/step - loss: 0.1380\n",
            "Epoch 71/200\n",
            "1/1 [==============================] - 0s 8ms/step - loss: 0.1352\n",
            "Epoch 72/200\n",
            "1/1 [==============================] - 0s 9ms/step - loss: 0.1324\n",
            "Epoch 73/200\n",
            "1/1 [==============================] - 0s 9ms/step - loss: 0.1297\n",
            "Epoch 74/200\n",
            "1/1 [==============================] - 0s 10ms/step - loss: 0.1270\n",
            "Epoch 75/200\n",
            "1/1 [==============================] - 0s 11ms/step - loss: 0.1244\n",
            "Epoch 76/200\n",
            "1/1 [==============================] - 0s 10ms/step - loss: 0.1219\n",
            "Epoch 77/200\n",
            "1/1 [==============================] - 0s 8ms/step - loss: 0.1194\n",
            "Epoch 78/200\n",
            "1/1 [==============================] - 0s 12ms/step - loss: 0.1169\n",
            "Epoch 79/200\n",
            "1/1 [==============================] - 0s 12ms/step - loss: 0.1145\n",
            "Epoch 80/200\n",
            "1/1 [==============================] - 0s 8ms/step - loss: 0.1122\n",
            "Epoch 81/200\n",
            "1/1 [==============================] - 0s 10ms/step - loss: 0.1099\n",
            "Epoch 82/200\n",
            "1/1 [==============================] - 0s 9ms/step - loss: 0.1076\n",
            "Epoch 83/200\n",
            "1/1 [==============================] - 0s 10ms/step - loss: 0.1054\n",
            "Epoch 84/200\n",
            "1/1 [==============================] - 0s 10ms/step - loss: 0.1032\n",
            "Epoch 85/200\n",
            "1/1 [==============================] - 0s 10ms/step - loss: 0.1011\n",
            "Epoch 86/200\n",
            "1/1 [==============================] - 0s 9ms/step - loss: 0.0990\n",
            "Epoch 87/200\n",
            "1/1 [==============================] - 0s 8ms/step - loss: 0.0970\n",
            "Epoch 88/200\n",
            "1/1 [==============================] - 0s 9ms/step - loss: 0.0950\n",
            "Epoch 89/200\n",
            "1/1 [==============================] - 0s 8ms/step - loss: 0.0930\n",
            "Epoch 90/200\n",
            "1/1 [==============================] - 0s 9ms/step - loss: 0.0911\n",
            "Epoch 91/200\n",
            "1/1 [==============================] - 0s 10ms/step - loss: 0.0893\n",
            "Epoch 92/200\n",
            "1/1 [==============================] - 0s 10ms/step - loss: 0.0874\n",
            "Epoch 93/200\n",
            "1/1 [==============================] - 0s 12ms/step - loss: 0.0856\n",
            "Epoch 94/200\n",
            "1/1 [==============================] - 0s 9ms/step - loss: 0.0839\n",
            "Epoch 95/200\n",
            "1/1 [==============================] - 0s 9ms/step - loss: 0.0822\n",
            "Epoch 96/200\n",
            "1/1 [==============================] - 0s 7ms/step - loss: 0.0805\n",
            "Epoch 97/200\n",
            "1/1 [==============================] - 0s 10ms/step - loss: 0.0788\n",
            "Epoch 98/200\n",
            "1/1 [==============================] - 0s 11ms/step - loss: 0.0772\n",
            "Epoch 99/200\n",
            "1/1 [==============================] - 0s 11ms/step - loss: 0.0756\n",
            "Epoch 100/200\n",
            "1/1 [==============================] - 0s 12ms/step - loss: 0.0741\n",
            "Epoch 101/200\n",
            "1/1 [==============================] - 0s 8ms/step - loss: 0.0725\n",
            "Epoch 102/200\n",
            "1/1 [==============================] - 0s 9ms/step - loss: 0.0710\n",
            "Epoch 103/200\n",
            "1/1 [==============================] - 0s 9ms/step - loss: 0.0696\n",
            "Epoch 104/200\n",
            "1/1 [==============================] - 0s 7ms/step - loss: 0.0682\n",
            "Epoch 105/200\n",
            "1/1 [==============================] - 0s 13ms/step - loss: 0.0668\n",
            "Epoch 106/200\n",
            "1/1 [==============================] - 0s 9ms/step - loss: 0.0654\n",
            "Epoch 107/200\n",
            "1/1 [==============================] - 0s 11ms/step - loss: 0.0640\n",
            "Epoch 108/200\n",
            "1/1 [==============================] - 0s 9ms/step - loss: 0.0627\n",
            "Epoch 109/200\n",
            "1/1 [==============================] - 0s 9ms/step - loss: 0.0614\n",
            "Epoch 110/200\n",
            "1/1 [==============================] - 0s 12ms/step - loss: 0.0602\n",
            "Epoch 111/200\n",
            "1/1 [==============================] - 0s 15ms/step - loss: 0.0589\n",
            "Epoch 112/200\n",
            "1/1 [==============================] - 0s 14ms/step - loss: 0.0577\n",
            "Epoch 113/200\n",
            "1/1 [==============================] - 0s 14ms/step - loss: 0.0565\n",
            "Epoch 114/200\n",
            "1/1 [==============================] - 0s 15ms/step - loss: 0.0554\n",
            "Epoch 115/200\n",
            "1/1 [==============================] - 0s 12ms/step - loss: 0.0542\n",
            "Epoch 116/200\n",
            "1/1 [==============================] - 0s 10ms/step - loss: 0.0531\n",
            "Epoch 117/200\n",
            "1/1 [==============================] - 0s 9ms/step - loss: 0.0520\n",
            "Epoch 118/200\n",
            "1/1 [==============================] - 0s 10ms/step - loss: 0.0510\n",
            "Epoch 119/200\n",
            "1/1 [==============================] - 0s 10ms/step - loss: 0.0499\n",
            "Epoch 120/200\n",
            "1/1 [==============================] - 0s 12ms/step - loss: 0.0489\n",
            "Epoch 121/200\n",
            "1/1 [==============================] - 0s 14ms/step - loss: 0.0479\n",
            "Epoch 122/200\n",
            "1/1 [==============================] - 0s 10ms/step - loss: 0.0469\n",
            "Epoch 123/200\n",
            "1/1 [==============================] - 0s 17ms/step - loss: 0.0459\n",
            "Epoch 124/200\n",
            "1/1 [==============================] - 0s 14ms/step - loss: 0.0450\n",
            "Epoch 125/200\n",
            "1/1 [==============================] - 0s 12ms/step - loss: 0.0441\n",
            "Epoch 126/200\n",
            "1/1 [==============================] - 0s 10ms/step - loss: 0.0432\n",
            "Epoch 127/200\n",
            "1/1 [==============================] - 0s 8ms/step - loss: 0.0423\n",
            "Epoch 128/200\n",
            "1/1 [==============================] - 0s 18ms/step - loss: 0.0414\n",
            "Epoch 129/200\n",
            "1/1 [==============================] - 0s 11ms/step - loss: 0.0406\n",
            "Epoch 130/200\n",
            "1/1 [==============================] - 0s 9ms/step - loss: 0.0397\n",
            "Epoch 131/200\n",
            "1/1 [==============================] - 0s 17ms/step - loss: 0.0389\n",
            "Epoch 132/200\n",
            "1/1 [==============================] - 0s 18ms/step - loss: 0.0381\n",
            "Epoch 133/200\n",
            "1/1 [==============================] - 0s 12ms/step - loss: 0.0373\n",
            "Epoch 134/200\n",
            "1/1 [==============================] - 0s 10ms/step - loss: 0.0366\n",
            "Epoch 135/200\n",
            "1/1 [==============================] - 0s 11ms/step - loss: 0.0358\n",
            "Epoch 136/200\n",
            "1/1 [==============================] - 0s 11ms/step - loss: 0.0351\n",
            "Epoch 137/200\n",
            "1/1 [==============================] - 0s 9ms/step - loss: 0.0344\n",
            "Epoch 138/200\n",
            "1/1 [==============================] - 0s 9ms/step - loss: 0.0337\n",
            "Epoch 139/200\n",
            "1/1 [==============================] - 0s 10ms/step - loss: 0.0330\n",
            "Epoch 140/200\n",
            "1/1 [==============================] - 0s 13ms/step - loss: 0.0323\n",
            "Epoch 141/200\n",
            "1/1 [==============================] - 0s 10ms/step - loss: 0.0316\n",
            "Epoch 142/200\n",
            "1/1 [==============================] - 0s 12ms/step - loss: 0.0310\n",
            "Epoch 143/200\n",
            "1/1 [==============================] - 0s 29ms/step - loss: 0.0303\n",
            "Epoch 144/200\n",
            "1/1 [==============================] - 0s 23ms/step - loss: 0.0297\n",
            "Epoch 145/200\n",
            "1/1 [==============================] - 0s 33ms/step - loss: 0.0291\n",
            "Epoch 146/200\n",
            "1/1 [==============================] - 0s 24ms/step - loss: 0.0285\n",
            "Epoch 147/200\n",
            "1/1 [==============================] - 0s 12ms/step - loss: 0.0279\n",
            "Epoch 148/200\n",
            "1/1 [==============================] - 0s 9ms/step - loss: 0.0273\n",
            "Epoch 149/200\n",
            "1/1 [==============================] - 0s 8ms/step - loss: 0.0268\n",
            "Epoch 150/200\n",
            "1/1 [==============================] - 0s 10ms/step - loss: 0.0262\n",
            "Epoch 151/200\n",
            "1/1 [==============================] - 0s 10ms/step - loss: 0.0257\n",
            "Epoch 152/200\n",
            "1/1 [==============================] - 0s 9ms/step - loss: 0.0252\n",
            "Epoch 153/200\n",
            "1/1 [==============================] - 0s 10ms/step - loss: 0.0247\n",
            "Epoch 154/200\n",
            "1/1 [==============================] - 0s 9ms/step - loss: 0.0241\n",
            "Epoch 155/200\n",
            "1/1 [==============================] - 0s 9ms/step - loss: 0.0236\n",
            "Epoch 156/200\n",
            "1/1 [==============================] - 0s 11ms/step - loss: 0.0232\n",
            "Epoch 157/200\n",
            "1/1 [==============================] - 0s 37ms/step - loss: 0.0227\n",
            "Epoch 158/200\n",
            "1/1 [==============================] - 0s 35ms/step - loss: 0.0222\n",
            "Epoch 159/200\n",
            "1/1 [==============================] - 0s 24ms/step - loss: 0.0218\n",
            "Epoch 160/200\n",
            "1/1 [==============================] - 0s 26ms/step - loss: 0.0213\n",
            "Epoch 161/200\n",
            "1/1 [==============================] - 0s 8ms/step - loss: 0.0209\n",
            "Epoch 162/200\n",
            "1/1 [==============================] - 0s 10ms/step - loss: 0.0205\n",
            "Epoch 163/200\n",
            "1/1 [==============================] - 0s 7ms/step - loss: 0.0200\n",
            "Epoch 164/200\n",
            "1/1 [==============================] - 0s 8ms/step - loss: 0.0196\n",
            "Epoch 165/200\n",
            "1/1 [==============================] - 0s 11ms/step - loss: 0.0192\n",
            "Epoch 166/200\n",
            "1/1 [==============================] - 0s 9ms/step - loss: 0.0188\n",
            "Epoch 167/200\n",
            "1/1 [==============================] - 0s 9ms/step - loss: 0.0184\n",
            "Epoch 168/200\n",
            "1/1 [==============================] - 0s 10ms/step - loss: 0.0181\n",
            "Epoch 169/200\n",
            "1/1 [==============================] - 0s 8ms/step - loss: 0.0177\n",
            "Epoch 170/200\n",
            "1/1 [==============================] - 0s 8ms/step - loss: 0.0173\n",
            "Epoch 171/200\n",
            "1/1 [==============================] - 0s 8ms/step - loss: 0.0170\n",
            "Epoch 172/200\n",
            "1/1 [==============================] - 0s 9ms/step - loss: 0.0166\n",
            "Epoch 173/200\n",
            "1/1 [==============================] - 0s 8ms/step - loss: 0.0163\n",
            "Epoch 174/200\n",
            "1/1 [==============================] - 0s 8ms/step - loss: 0.0159\n",
            "Epoch 175/200\n",
            "1/1 [==============================] - 0s 9ms/step - loss: 0.0156\n",
            "Epoch 176/200\n",
            "1/1 [==============================] - 0s 10ms/step - loss: 0.0153\n",
            "Epoch 177/200\n",
            "1/1 [==============================] - 0s 11ms/step - loss: 0.0150\n",
            "Epoch 178/200\n",
            "1/1 [==============================] - 0s 13ms/step - loss: 0.0147\n",
            "Epoch 179/200\n",
            "1/1 [==============================] - 0s 8ms/step - loss: 0.0144\n",
            "Epoch 180/200\n",
            "1/1 [==============================] - 0s 9ms/step - loss: 0.0141\n",
            "Epoch 181/200\n",
            "1/1 [==============================] - 0s 11ms/step - loss: 0.0138\n",
            "Epoch 182/200\n",
            "1/1 [==============================] - 0s 9ms/step - loss: 0.0135\n",
            "Epoch 183/200\n",
            "1/1 [==============================] - 0s 9ms/step - loss: 0.0132\n",
            "Epoch 184/200\n",
            "1/1 [==============================] - 0s 9ms/step - loss: 0.0130\n",
            "Epoch 185/200\n",
            "1/1 [==============================] - 0s 12ms/step - loss: 0.0127\n",
            "Epoch 186/200\n",
            "1/1 [==============================] - 0s 9ms/step - loss: 0.0124\n",
            "Epoch 187/200\n",
            "1/1 [==============================] - 0s 10ms/step - loss: 0.0122\n",
            "Epoch 188/200\n",
            "1/1 [==============================] - 0s 8ms/step - loss: 0.0119\n",
            "Epoch 189/200\n",
            "1/1 [==============================] - 0s 9ms/step - loss: 0.0117\n",
            "Epoch 190/200\n",
            "1/1 [==============================] - 0s 10ms/step - loss: 0.0114\n",
            "Epoch 191/200\n",
            "1/1 [==============================] - 0s 10ms/step - loss: 0.0112\n",
            "Epoch 192/200\n",
            "1/1 [==============================] - 0s 9ms/step - loss: 0.0110\n",
            "Epoch 193/200\n",
            "1/1 [==============================] - 0s 9ms/step - loss: 0.0107\n",
            "Epoch 194/200\n",
            "1/1 [==============================] - 0s 9ms/step - loss: 0.0105\n",
            "Epoch 195/200\n",
            "1/1 [==============================] - 0s 9ms/step - loss: 0.0103\n",
            "Epoch 196/200\n",
            "1/1 [==============================] - 0s 10ms/step - loss: 0.0101\n",
            "Epoch 197/200\n",
            "1/1 [==============================] - 0s 9ms/step - loss: 0.0099\n",
            "Epoch 198/200\n",
            "1/1 [==============================] - 0s 9ms/step - loss: 0.0097\n",
            "Epoch 199/200\n",
            "1/1 [==============================] - 0s 8ms/step - loss: 0.0095\n",
            "Epoch 200/200\n",
            "1/1 [==============================] - 0s 18ms/step - loss: 0.0093\n"
          ]
        },
        {
          "output_type": "execute_result",
          "data": {
            "text/plain": [
              "<keras.callbacks.History at 0x7fbaeb6d29d0>"
            ]
          },
          "metadata": {},
          "execution_count": 3
        }
      ]
    },
    {
      "cell_type": "markdown",
      "source": [
        "# Generate a SavedModel"
      ],
      "metadata": {
        "id": "-R7HGX9tKEaj"
      }
    },
    {
      "cell_type": "code",
      "source": [
        "export_dir = 'saved_model/1'\n",
        "tf.saved_model.save(model, export_dir)"
      ],
      "metadata": {
        "colab": {
          "base_uri": "https://localhost:8080/"
        },
        "id": "F4T10dD3KABV",
        "outputId": "672e644b-2677-4a43-9884-8241807578c1"
      },
      "execution_count": 4,
      "outputs": [
        {
          "output_type": "stream",
          "name": "stdout",
          "text": [
            "INFO:tensorflow:Assets written to: saved_model/1/assets\n"
          ]
        }
      ]
    },
    {
      "cell_type": "markdown",
      "source": [
        "# Convert the SavedModel to TFLite"
      ],
      "metadata": {
        "id": "v3pqVWoZKf4q"
      }
    },
    {
      "cell_type": "code",
      "source": [
        "# Convert the model.\n",
        "converter = tf.lite.TFLiteConverter.from_saved_model(export_dir)\n",
        "tflite_model = converter.convert()"
      ],
      "metadata": {
        "colab": {
          "base_uri": "https://localhost:8080/"
        },
        "id": "Huu8C-CrKePx",
        "outputId": "684ea4f5-e840-4be3-f55e-7af02718ee63"
      },
      "execution_count": 5,
      "outputs": [
        {
          "output_type": "stream",
          "name": "stderr",
          "text": [
            "WARNING:absl:Buffer deduplication procedure will be skipped when flatbuffer library is not properly loaded\n"
          ]
        }
      ]
    },
    {
      "cell_type": "code",
      "source": [
        "tflite_model_file = pathlib.Path('model.tflite')\n",
        "tflite_model_file.write_bytes(tflite_model)"
      ],
      "metadata": {
        "colab": {
          "base_uri": "https://localhost:8080/"
        },
        "id": "YVXjkW8uK4_-",
        "outputId": "cde78bd4-f626-48f0-ac7a-d30b1b017dda"
      },
      "execution_count": 6,
      "outputs": [
        {
          "output_type": "execute_result",
          "data": {
            "text/plain": [
              "888"
            ]
          },
          "metadata": {},
          "execution_count": 6
        }
      ]
    },
    {
      "cell_type": "markdown",
      "source": [
        "# Initialize the TFLite interpreter to try it out"
      ],
      "metadata": {
        "id": "4RUdjRdtLN6v"
      }
    },
    {
      "cell_type": "code",
      "source": [
        "# Load TFLite model and allocate tensors.\n",
        "interpreter = tf.lite.Interpreter(model_content=tflite_model)\n",
        "interpreter.allocate_tensors()\n",
        "\n",
        "# Get input and output tensors.\n",
        "input_details = interpreter.get_input_details()\n",
        "output_details = interpreter.get_output_details()"
      ],
      "metadata": {
        "id": "MbOrS5vsLMcn"
      },
      "execution_count": 7,
      "outputs": []
    },
    {
      "cell_type": "code",
      "source": [
        "# Test the TFLite model on random input data.\n",
        "input_shape = input_details[0]['shape']\n",
        "inputs, outputs = [], []\n",
        "for _ in range(100):\n",
        "  input_data = np.array(np.random.random_sample(input_shape), dtype = np.float32)\n",
        "  interpreter.set_tensor(input_details[0]['index'], input_data)\n",
        "\n",
        "  interpreter.invoke()\n",
        "  tflite_results = interpreter.get_tensor(output_details[0]['index'])\n",
        "\n",
        "  # Test the Tensorflow model on random input data.\n",
        "  tf_results = model(tf.constant(input_data))\n",
        "  output_data = np.array(tf_results)\n",
        "\n",
        "  inputs.append(input_data[0][0])\n",
        "  outputs.append(output_data[0][0])"
      ],
      "metadata": {
        "id": "Jrb0YQS5MvqK"
      },
      "execution_count": 8,
      "outputs": []
    },
    {
      "cell_type": "markdown",
      "source": [
        "# Visualize the model"
      ],
      "metadata": {
        "id": "MpYjrrVROrZO"
      }
    },
    {
      "cell_type": "code",
      "source": [
        "plt.plot(inputs, outputs, 'r')\n",
        "plt.show()"
      ],
      "metadata": {
        "colab": {
          "base_uri": "https://localhost:8080/",
          "height": 265
        },
        "id": "YIVpRaU5OwP-",
        "outputId": "203fd31b-2f9f-4d3d-a719-f522bc2981ee"
      },
      "execution_count": 9,
      "outputs": [
        {
          "output_type": "display_data",
          "data": {
            "text/plain": [
              "<Figure size 432x288 with 1 Axes>"
            ],
            "image/png": "[encoded data removed]"
          },
          "metadata": {
            "needs_background": "light"
          }
        }
      ]
    },
    {
      "cell_type": "markdown",
      "source": [
        "# Download the TFLite model file"
      ],
      "metadata": {
        "id": "TlU04A-VO5X9"
      }
    },
    {
      "cell_type": "code",
      "source": [
        "try:\n",
        "  from google.colab import files\n",
        "  files.download(tflite_model_file)\n",
        "except:\n",
        "  pass"
      ],
      "metadata": {
        "colab": {
          "base_uri": "https://localhost:8080/",
          "height": 17
        },
        "id": "wdqArUPAO4iu",
        "outputId": "a02398c2-9990-4cf3-d7d5-9dadbb35be7c"
      },
      "execution_count": 10,
      "outputs": [
        {
          "output_type": "display_data",
          "data": {
            "text/plain": [
              "<IPython.core.display.Javascript object>"
            ],
            "application/javascript": [
              "\n",
              "    async function download(id, filename, size) {\n",
              "      if (!google.colab.kernel.accessAllowed) {\n",
              "        return;\n",
              "      }\n",
              "      const div = document.createElement('div');\n",
              "      const label = document.createElement('label');\n",
              "      label.textContent = `Downloading \"${filename}\": `;\n",
              "      div.appendChild(label);\n",
              "      const progress = document.createElement('progress');\n",
              "      progress.max = size;\n",
              "      div.appendChild(progress);\n",
              "      document.body.appendChild(div);\n",
              "\n",
              "      const buffers = [];\n",
              "      let downloaded = 0;\n",
              "\n",
              "      const channel = await google.colab.kernel.comms.open(id);\n",
              "      // Send a message to notify the kernel that we're ready.\n",
              "      channel.send({})\n",
              "\n",
              "      for await (const message of channel.messages) {\n",
              "        // Send a message to notify the kernel that we're ready.\n",
              "        channel.send({})\n",
              "        if (message.buffers) {\n",
              "          for (const buffer of message.buffers) {\n",
              "            buffers.push(buffer);\n",
              "            downloaded += buffer.byteLength;\n",
              "            progress.value = downloaded;\n",
              "          }\n",
              "        }\n",
              "      }\n",
              "      const blob = new Blob(buffers, {type: 'application/binary'});\n",
              "      const a = document.createElement('a');\n",
              "      a.href = window.URL.createObjectURL(blob);\n",
              "      a.download = filename;\n",
              "      div.appendChild(a);\n",
              "      a.click();\n",
              "      div.remove();\n",
              "    }\n",
              "  "
            ]
          },
          "metadata": {}
        },
        {
          "output_type": "display_data",
          "data": {
            "text/plain": [
              "<IPython.core.display.Javascript object>"
            ],
            "application/javascript": [
              "download(\"download_219333b1-9d02-44ca-9a7c-eaed69996a60\", \"model.tflite\", 888)"
            ]
          },
          "metadata": {}
        }
      ]
    }
  ]
}